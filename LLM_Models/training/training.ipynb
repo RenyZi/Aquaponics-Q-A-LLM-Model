{
 "cells": [
  {
   "cell_type": "code",
   "execution_count": 1,
   "id": "e1c23772-2fb2-4185-82f2-ddaa9089ffe7",
   "metadata": {},
   "outputs": [
    {
     "data": {
      "application/vnd.jupyter.widget-view+json": {
       "model_id": "fb5b590fab96466f89dd95b346c38765",
       "version_major": 2,
       "version_minor": 0
      },
      "text/plain": [
       "Epoch 1/10:   0%|          | 0/2 [00:00<?, ?it/s]"
      ]
     },
     "metadata": {},
     "output_type": "display_data"
    },
    {
     "name": "stderr",
     "output_type": "stream",
     "text": [
      "You're using a BertTokenizerFast tokenizer. Please note that with a fast tokenizer, using the `__call__` method is faster than using a method to encode the text followed by a call to the `pad` method to get a padded encoding.\n"
     ]
    },
    {
     "name": "stdout",
     "output_type": "stream",
     "text": [
      "Epoch 1 finished — Avg Loss: 6.5127\n"
     ]
    },
    {
     "data": {
      "application/vnd.jupyter.widget-view+json": {
       "model_id": "950050830c9c4d7da45153868dfbae5f",
       "version_major": 2,
       "version_minor": 0
      },
      "text/plain": [
       "Epoch 2/10:   0%|          | 0/2 [00:00<?, ?it/s]"
      ]
     },
     "metadata": {},
     "output_type": "display_data"
    },
    {
     "name": "stdout",
     "output_type": "stream",
     "text": [
      "Epoch 2 finished — Avg Loss: 6.0907\n"
     ]
    },
    {
     "data": {
      "application/vnd.jupyter.widget-view+json": {
       "model_id": "c072c329f4db4a43a81348ce37725d63",
       "version_major": 2,
       "version_minor": 0
      },
      "text/plain": [
       "Epoch 3/10:   0%|          | 0/2 [00:00<?, ?it/s]"
      ]
     },
     "metadata": {},
     "output_type": "display_data"
    },
    {
     "name": "stdout",
     "output_type": "stream",
     "text": [
      "Epoch 3 finished — Avg Loss: 5.1919\n"
     ]
    },
    {
     "data": {
      "application/vnd.jupyter.widget-view+json": {
       "model_id": "bc3c5a7e477a4416b969fc355783a7a5",
       "version_major": 2,
       "version_minor": 0
      },
      "text/plain": [
       "Epoch 4/10:   0%|          | 0/2 [00:00<?, ?it/s]"
      ]
     },
     "metadata": {},
     "output_type": "display_data"
    },
    {
     "name": "stdout",
     "output_type": "stream",
     "text": [
      "Epoch 4 finished — Avg Loss: 4.6885\n"
     ]
    },
    {
     "data": {
      "application/vnd.jupyter.widget-view+json": {
       "model_id": "af889d8338a04c929d8dc4916aef5dd8",
       "version_major": 2,
       "version_minor": 0
      },
      "text/plain": [
       "Epoch 5/10:   0%|          | 0/2 [00:00<?, ?it/s]"
      ]
     },
     "metadata": {},
     "output_type": "display_data"
    },
    {
     "name": "stdout",
     "output_type": "stream",
     "text": [
      "Epoch 5 finished — Avg Loss: 4.0049\n"
     ]
    },
    {
     "data": {
      "application/vnd.jupyter.widget-view+json": {
       "model_id": "e7427437e9a549cf8425d5c517a24ceb",
       "version_major": 2,
       "version_minor": 0
      },
      "text/plain": [
       "Epoch 6/10:   0%|          | 0/2 [00:00<?, ?it/s]"
      ]
     },
     "metadata": {},
     "output_type": "display_data"
    },
    {
     "name": "stdout",
     "output_type": "stream",
     "text": [
      "Epoch 6 finished — Avg Loss: 3.4050\n"
     ]
    },
    {
     "data": {
      "application/vnd.jupyter.widget-view+json": {
       "model_id": "e2ea703aa0ca4354b1125ebd506d52aa",
       "version_major": 2,
       "version_minor": 0
      },
      "text/plain": [
       "Epoch 7/10:   0%|          | 0/2 [00:00<?, ?it/s]"
      ]
     },
     "metadata": {},
     "output_type": "display_data"
    },
    {
     "name": "stdout",
     "output_type": "stream",
     "text": [
      "Epoch 7 finished — Avg Loss: 2.8677\n"
     ]
    },
    {
     "data": {
      "application/vnd.jupyter.widget-view+json": {
       "model_id": "275795d7c5b648bcb2034a995e7acc14",
       "version_major": 2,
       "version_minor": 0
      },
      "text/plain": [
       "Epoch 8/10:   0%|          | 0/2 [00:00<?, ?it/s]"
      ]
     },
     "metadata": {},
     "output_type": "display_data"
    },
    {
     "name": "stdout",
     "output_type": "stream",
     "text": [
      "Epoch 8 finished — Avg Loss: 2.3623\n"
     ]
    },
    {
     "data": {
      "application/vnd.jupyter.widget-view+json": {
       "model_id": "d1aea79ca99f4b6f98fdeb0ec052fd27",
       "version_major": 2,
       "version_minor": 0
      },
      "text/plain": [
       "Epoch 9/10:   0%|          | 0/2 [00:00<?, ?it/s]"
      ]
     },
     "metadata": {},
     "output_type": "display_data"
    },
    {
     "name": "stdout",
     "output_type": "stream",
     "text": [
      "Epoch 9 finished — Avg Loss: 2.0135\n"
     ]
    },
    {
     "data": {
      "application/vnd.jupyter.widget-view+json": {
       "model_id": "6519c48087b24447a156c98c4533adcd",
       "version_major": 2,
       "version_minor": 0
      },
      "text/plain": [
       "Epoch 10/10:   0%|          | 0/2 [00:00<?, ?it/s]"
      ]
     },
     "metadata": {},
     "output_type": "display_data"
    },
    {
     "name": "stdout",
     "output_type": "stream",
     "text": [
      "Epoch 10 finished — Avg Loss: 1.7439\n",
      "Model saved to data/processed/qa_transformer.pt\n"
     ]
    }
   ],
   "source": [
    "import os\n",
    "import sys\n",
    "import torch\n",
    "from torch.utils.data import DataLoader\n",
    "from torch.optim import AdamW\n",
    "from torch.nn import CrossEntropyLoss\n",
    "from tqdm.auto import tqdm  # for progress bars\n",
    "\n",
    "sys.path.append(os.path.abspath(\"..\"))\n",
    "\n",
    "from tokenizer.tokenizer import get_tokenizer\n",
    "from dataset.qa_dataset import QADataset\n",
    "from model.transformer_block import Transformer\n",
    "\n",
    "# 1) Hyperparameters\n",
    "DATA_PATH    =  r\"C:\\Users\\Admin\\Desktop\\LLM_QA\\data\\processed\\processed_aquaponics_dataset.json\"\n",
    "BATCH_SIZE   = 8\n",
    "NUM_EPOCHS   = 10\n",
    "LEARNING_RATE = 3e-5\n",
    "MAX_LEN      = 512\n",
    "DEVICE       = torch.device(\"cuda\" if torch.cuda.is_available() else \"cpu\")\n",
    "SAVE_PATH    = \"data/processed/qa_transformer.pt\"\n",
    "\n",
    "# 2) Prepare tokenizer, dataset, dataloader\n",
    "tokenizer = get_tokenizer()\n",
    "train_dataset = QADataset(DATA_PATH, tokenizer, max_length=MAX_LEN)\n",
    "train_loader  = DataLoader(\n",
    "    train_dataset,\n",
    "    batch_size=BATCH_SIZE,\n",
    "    shuffle=True,\n",
    "    collate_fn=lambda samples: tokenizer.pad(\n",
    "        {\n",
    "            \"input_ids\": [s[\"input_ids\"] for s in samples],\n",
    "            \"attention_mask\": [s[\"attention_mask\"] for s in samples],\n",
    "            \"start_positions\": torch.stack([s[\"start_positions\"] for s in samples]),\n",
    "            \"end_positions\":   torch.stack([s[\"end_positions\"]   for s in samples])\n",
    "        },\n",
    "        return_tensors=\"pt\"\n",
    "    )\n",
    ")\n",
    "\n",
    "# 3) Initialize model, optimizer, and loss\n",
    "model = Transformer(vocab_size=tokenizer.vocab_size).to(DEVICE)\n",
    "optimizer = AdamW(model.parameters(), lr=LEARNING_RATE)\n",
    "loss_fn   = CrossEntropyLoss()\n",
    "\n",
    "# 4) Training loop\n",
    "model.train()\n",
    "for epoch in range(NUM_EPOCHS):\n",
    "    epoch_loss = 0.0\n",
    "    progress = tqdm(train_loader, desc=f\"Epoch {epoch+1}/{NUM_EPOCHS}\")\n",
    "    \n",
    "    for batch in progress:\n",
    "        # Move tensors to device\n",
    "        input_ids      = batch[\"input_ids\"].to(DEVICE)\n",
    "        attention_mask = batch[\"attention_mask\"].to(DEVICE)\n",
    "        start_labels   = batch[\"start_positions\"].to(DEVICE)\n",
    "        end_labels     = batch[\"end_positions\"].to(DEVICE)\n",
    "\n",
    "        optimizer.zero_grad()\n",
    "        \n",
    "        # Forward pass\n",
    "        start_logits, end_logits = model(input_ids, attention_mask)\n",
    "        # [batch_size, seq_len] each, so squeeze extra dims if needed\n",
    "        if start_logits.dim() > 2:\n",
    "            start_logits = start_logits.squeeze(-1)\n",
    "            end_logits   = end_logits.squeeze(-1)\n",
    "        \n",
    "        # Compute losses\n",
    "        loss_start = loss_fn(start_logits, start_labels)\n",
    "        loss_end   = loss_fn(end_logits,   end_labels)\n",
    "        loss       = (loss_start + loss_end) / 2\n",
    "        \n",
    "        # Backward + optimize\n",
    "        loss.backward()\n",
    "        optimizer.step()\n",
    "        \n",
    "        epoch_loss += loss.item()\n",
    "        progress.set_postfix(loss=epoch_loss / (progress.n + 1))\n",
    "    \n",
    "    print(f\"Epoch {epoch+1} finished — Avg Loss: {epoch_loss/len(train_loader):.4f}\")\n",
    "\n",
    "# 5) Save the fine-tuned model\n",
    "os.makedirs(os.path.dirname(SAVE_PATH), exist_ok=True)\n",
    "torch.save(model.state_dict(), SAVE_PATH)\n",
    "print(f\"Model saved to {SAVE_PATH}\")\n"
   ]
  },
  {
   "cell_type": "code",
   "execution_count": null,
   "id": "1bfd15b1-e616-4a17-b912-92de4eef114f",
   "metadata": {},
   "outputs": [],
   "source": []
  }
 ],
 "metadata": {
  "kernelspec": {
   "display_name": "Python 3 (ipykernel)",
   "language": "python",
   "name": "python3"
  },
  "language_info": {
   "codemirror_mode": {
    "name": "ipython",
    "version": 3
   },
   "file_extension": ".py",
   "mimetype": "text/x-python",
   "name": "python",
   "nbconvert_exporter": "python",
   "pygments_lexer": "ipython3",
   "version": "3.11.9"
  }
 },
 "nbformat": 4,
 "nbformat_minor": 5
}
